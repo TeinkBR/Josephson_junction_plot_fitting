{
 "cells": [
  {
   "cell_type": "code",
   "execution_count": 17,
   "id": "d014df32-bd48-462d-b467-2ddaf2f2387d",
   "metadata": {},
   "outputs": [],
   "source": [
    "import numpy as np        # check NumPy\n",
    "import tinyarray          # check tinyarray"
   ]
  },
  {
   "cell_type": "code",
   "execution_count": 18,
   "id": "991c5af2-bf72-4bbe-83c8-8330482a6f80",
   "metadata": {},
   "outputs": [],
   "source": [
    "import kwant              # check Kwant core\n",
    "from scipy.linalg import eigh\n",
    "from scipy.constants import hbar, e, k as k_B"
   ]
  },
  {
   "cell_type": "code",
   "execution_count": 19,
   "id": "7ec883d7-103b-42b4-9579-9067d8cecfdc",
   "metadata": {},
   "outputs": [],
   "source": [
    "from tqdm.notebook import tqdm\n",
    "import time"
   ]
  },
  {
   "cell_type": "code",
   "execution_count": 20,
   "id": "35128923-5014-47b3-9ec5-a9288de3c0b3",
   "metadata": {},
   "outputs": [],
   "source": [
    "from scipy.sparse.linalg import eigsh"
   ]
  },
  {
   "cell_type": "code",
   "execution_count": 21,
   "id": "60d6a727-8aac-4075-8031-5a698e291a83",
   "metadata": {},
   "outputs": [
    {
     "name": "stdout",
     "output_type": "stream",
     "text": [
      "/Users/jingyili/miniforge/envs/kwant-intel/bin/python\n"
     ]
    }
   ],
   "source": [
    "# Run this in a Jupyter cell\n",
    "import sys\n",
    "print(sys.executable)  # Should point to your conda environment's Python"
   ]
  },
  {
   "cell_type": "code",
   "execution_count": 27,
   "id": "f568e7b5-8e2b-4cfa-af82-1c66cd2b638d",
   "metadata": {},
   "outputs": [],
   "source": [
    "import matplotlib.pyplot as plt\n"
   ]
  },
  {
   "cell_type": "code",
   "execution_count": 22,
   "id": "43c85be0-434d-4e85-b818-846e76e0bdc4",
   "metadata": {},
   "outputs": [],
   "source": [
    "# Constants\n",
    "a = 1.0           # Lattice constant (nm)\n",
    "t = 1.0           # Hopping (eV)\n",
    "mu = 0.0          # Chemical potential (eV)\n",
    "alpha = 0.5       # Rashba SOC (eV·nm)\n",
    "h0 = 0.5          # Exchange field (eV)\n",
    "W = 50e-9         # Junction width (m)\n",
    "hbar = 6.582119569e-16  # eV·s (reduced Planck constant)\n",
    "e = 1.602176634e-19     # C (elementary charge)\n",
    "phi0 = hbar/(2*e) # Flux quantum (Wb)\n",
    "k_B = 8.617333262e-5    # Boltzmann constant (eV/K)\n",
    "Lx, Ly = 100, 20  # System dimensions"
   ]
  },
  {
   "cell_type": "code",
   "execution_count": 23,
   "id": "cc6a35e5-a768-4941-8992-34effaf0fa48",
   "metadata": {},
   "outputs": [],
   "source": [
    "def make_system():\n",
    "     # Define Pauli matrices HERE\n",
    "    sigma_0 = tinyarray.array([[1, 0], [0, 1]])\n",
    "    sigma_x = tinyarray.array([[0, 1], [1, 0]])\n",
    "    sigma_y = tinyarray.array([[0, -1j], [1j, 0]])\n",
    "    sigma_z = tinyarray.array([[1, 0], [0, -1]])\n",
    "    tau_0 = sigma_0\n",
    "    tau_x = tinyarray.array([[0, 1], [1, 0]])\n",
    "    tau_z = tinyarray.array([[1, 0], [0, -1]])\n",
    "    \n",
    "    lat = kwant.lattice.square(a, norbs=4)  # Add norbs=4\n",
    "    sys = kwant.Builder()\n",
    "\n",
    "    def onsite(site, Delta_array, phase, B):\n",
    "        x, y = site.pos\n",
    "        x_idx, y_idx = int(round(x/a)), int(round(y/a))\n",
    "        if x < 40*a or x >= 60*a:\n",
    "            # S regions: fixed Δ with phase\n",
    "            Delta_val = 0.2 * np.exp(1j * phase * (-1 if x < 40*a else 1))\n",
    "            h = 0.0\n",
    "        else:\n",
    "            # F region: use Delta_array\n",
    "            Delta_val = Delta_array[x_idx, y_idx]\n",
    "            h = h0 * np.tanh((x - 50*a)/(10*a))  # Domain wall\n",
    "        onsite_matrix = (\n",
    "            (4*t - mu) * np.kron(sigma_0, tau_z) +\n",
    "            h * np.kron(sigma_z, tau_z) +\n",
    "            np.real(Delta_val) * np.kron(sigma_0, tau_x) +\n",
    "            np.imag(Delta_val) * np.kron(sigma_0, np.dot(tau_x, sigma_y))  # Use np.dot for matrix multiplication\n",
    "        )\n",
    "        return onsite_matrix\n",
    "\n",
    "    def hopping_x(site1, site2, B):\n",
    "        y = site1.pos[1]\n",
    "        flux_phase = 2*np.pi * B * y * a**2 / phi0\n",
    "        return (\n",
    "            -t * np.kron(sigma_0, tau_z) -\n",
    "            1j*alpha * np.kron(sigma_y, tau_z)\n",
    "        ) * np.exp(1j*flux_phase)\n",
    "\n",
    "    def hopping_y(site1, site2):\n",
    "        return (\n",
    "            -t * np.kron(sigma_0, tau_z) +\n",
    "            1j*alpha * np.kron(sigma_x, tau_z)\n",
    "        )\n",
    "\n",
    "    # Build system\n",
    "    sys[lat.shape((lambda pos: 0 <= pos[0] < Lx*a and 0 <= pos[1] < Ly*a), (0, 0))] = onsite\n",
    "    sys[lat.neighbors()] = hopping_x\n",
    "    sys[kwant.HoppingKind((0, 1), lat)] = hopping_y\n",
    "\n",
    "    return sys.finalized()"
   ]
  },
  {
   "cell_type": "code",
   "execution_count": 35,
   "id": "776be487-e48d-416e-a746-0f843dee9a29",
   "metadata": {},
   "outputs": [],
   "source": [
    "# start self consistently updateing Delta, the order parameter \n",
    "def self_consistent_Delta(sys, V=1.0, T=0.01, max_iter=100, tol=1e-6, phase=0, B=0):\n",
    "   # Initialization code\n",
    "    print(\"\\nStarting self-consistent calculation...\")\n",
    "    print(f\"Target tolerance: {tol:.1e}, Max iterations: {max_iter}\")\n",
    "    start_time = time.time()\n",
    "    \n",
    "    # Initialize Δ (this should be OUTSIDE the iteration loop)\n",
    "    \n",
    "    Delta = np.zeros((Lx, Ly), dtype=complex)\n",
    "    mask_S_left = (np.arange(Lx)*a < 40*a)\n",
    "    mask_S_right = (np.arange(Lx)*a >= 60*a)\n",
    "\n",
    "     # Initialize S regions only\n",
    "    Delta[mask_S_left, :] = 0.2 * np.exp(1j * phase * -1)\n",
    "    Delta[mask_S_right, :] = 0.2 * np.exp(1j * phase * 1)\n",
    "\n",
    "     # Disable pairing in F region\n",
    "    V_matrix = np.zeros((Lx, Ly))\n",
    "    V_matrix[mask_S_left | mask_S_right] = V  # Pairing only in S\n",
    "    \n",
    "\n",
    "    # Plot initial h(x) profile\n",
    "    x_positions = np.arange(Lx) * a\n",
    "    h_profile = h0 * np.tanh((x_positions - 50*a)/(10*a))\n",
    "    plt.figure()\n",
    "    plt.plot(x_positions, h_profile)\n",
    "    plt.xlabel(\"x (nm)\")\n",
    "    plt.ylabel(\"h(x) (eV)\")\n",
    "    plt.title(\"Exchange Field Profile\")\n",
    "    plt.show()\n",
    "\n",
    "    \n",
    "    # Set up S regions (do this once before iterations)\n",
    "    for x in range(Lx):\n",
    "        x_pos = x * a\n",
    "        for y in range(Ly):\n",
    "            if x_pos < 40*a or x_pos >= 60*a:\n",
    "                phase_factor = -1 if x_pos < 40*a else 1\n",
    "                Delta[x, y] = 0.2 * np.exp(1j * phase * phase_factor)\n",
    "\n",
    "    \n",
    "    with tqdm(total=max_iter, desc=\"SCF Cycle\", unit=\"iter\", \n",
    "             bar_format=\"{l_bar}{bar}| {n_fmt}/{total_fmt} [{elapsed}<{remaining}]\") as pbar:\n",
    "        min_iter = 20  #force the minimum iteration in case converge too fast\n",
    "        for iter in range(max_iter):\n",
    "            # Main calculation code here\n",
    "\n",
    "            \n",
    "            \n",
    "            params = {'Delta_array': Delta, 'phase': phase, 'B': B}\n",
    "            H = sys.hamiltonian_submatrix(params=params)\n",
    "            eps, psi = np.linalg.eigh(H)  # Full spectrum\n",
    "\n",
    "            \n",
    "            Delta_new = Delta.copy()  # Start with current Δ\n",
    "\n",
    "            # Reset F region to accumulate new Δ\n",
    "            mask = (np.arange(Lx)*a >= 40*a) & (np.arange(Lx)*a < 60*a)\n",
    "            Delta_new[mask, :] = 0.0\n",
    "\n",
    "            Delta_new = np.zeros_like(Delta)\n",
    "            for n in range(len(eps)):\n",
    "                vec = psi[:, n]\n",
    "                weight = np.tanh(0.5 * abs(eps[n]) / (k_B * T)) if T > 0 else 1.0\n",
    "            \n",
    "                for x in range(Lx):\n",
    "                    if not (mask_S_left[x] or mask_S_right[x]):\n",
    "                   \n",
    "                        continue  # Skip F regions\n",
    "                    for y in range(Ly):\n",
    "                        idx = y + Ly * x\n",
    "                        u_up = vec[4*idx]\n",
    "                        u_dn = vec[4*idx + 1]\n",
    "                        v_up = vec[4*idx + 2]\n",
    "                        v_dn = vec[4*idx + 3]\n",
    "                        contrib = V * (u_up * v_dn.conj() + u_dn * v_up.conj()) * weight\n",
    "                        Delta_new[x, y] += contrib\n",
    "            Delta = 0.1*Delta_new + 0.9*Delta\n",
    "\n",
    "            if (iter % 5 == 0) or (iter == max_iter-1):\n",
    "                plt.figure(figsize=(12,5))\n",
    "    \n",
    "                plt.subplot(121)\n",
    "                plt.imshow(np.abs(Delta).T, cmap='viridis', \n",
    "              extent=[0, Lx*a, 0, Ly*a], origin='lower')\n",
    "                plt.colorbar(label='|Δ(x,y)| (eV)')\n",
    "                plt.xlabel(\"x (nm)\")\n",
    "                plt.ylabel(\"y (nm)\")\n",
    "                plt.title(f\"Iteration {iter+1}\")\n",
    "    \n",
    "                plt.subplot(122)\n",
    "                plt.plot(x_positions, np.mean(np.abs(Delta), axis=1))\n",
    "                plt.xlabel(\"x (nm)\")\n",
    "                plt.ylabel(\"Mean |Δ(x)|\")\n",
    "                plt.axvline(40*a, color='r', ls='--', label='S/F Interface')\n",
    "                plt.axvline(60*a, color='r', ls='--')\n",
    "                plt.legend()\n",
    "    \n",
    "                plt.tight_layout()\n",
    "                plt.show()    \n",
    "\n",
    "            # Apply linear mixing:\n",
    "            gamma = 0.1  # Mixing parameter\n",
    "            Delta = gamma*Delta_new + (1-gamma)*Delta\n",
    "            max_diff = np.max(np.abs(Delta_new[mask] - Delta[mask]))\n",
    "            Delta[mask] = Delta_new[mask]  # Update only F region\n",
    "\n",
    "            # Update progress bar\n",
    "            pbar.set_postfix({'ΔΔ': f\"{max_diff:.2e}\",\n",
    "                              '|Δ|': f\"{np.mean(np.abs(Delta[mask])):.3e}\"})\n",
    "            pbar.update(1)\n",
    "            \n",
    "            print(f\"Iter {iter+1}, max_diff = {max_diff:3e}\")\n",
    "            if iter+1 >= min_iter and max_diff < tol:\n",
    "                # At the end of self_consistent_Delta, before return:\n",
    "\n",
    "\n",
    "                # Final Δ visualization\n",
    "                plt.figure(figsize=(10,4))\n",
    "                plt.subplot(121)\n",
    "                plt.imshow(np.abs(Delta).T, cmap='viridis', \n",
    "                           extent=[0, Lx*a, 0, Ly*a], origin='lower')\n",
    "                plt.colorbar(label='|Δ(x,y)| (eV)')\n",
    "                plt.xlabel(\"x (nm)\")\n",
    "                plt.ylabel(\"y (nm)\")\n",
    "                plt.title(\"Final Gap Magnitude\")\n",
    "\n",
    "                plt.subplot(122)\n",
    "                plt.plot(x_positions, np.mean(np.angle(Delta), axis=1))\n",
    "                plt.xlabel(\"x (nm)\")\n",
    "                plt.ylabel(\"Phase(argΔ)\")\n",
    "                plt.title(\"Gap Phase Profile\")\n",
    "                plt.tight_layout()\n",
    "                plt.show()\n",
    "\n",
    "                return Delta\n",
    "                print(f\"Converged after {iter+1} iterations\")\n",
    "                \n",
    "                break\n",
    "                \n",
    "    # final reporting\n",
    "    print(f\"\\nTotal time: {time.time()-start_time:.1f}s\")\n",
    "    return Delta"
   ]
  },
  {
   "cell_type": "code",
   "execution_count": 36,
   "id": "eb806a3d-2d2b-4591-bebc-8724b306b747",
   "metadata": {},
   "outputs": [
    {
     "name": "stdout",
     "output_type": "stream",
     "text": [
      "Intel MKL WARNING: Support of Intel(R) Streaming SIMD Extensions 4.2 (Intel(R) SSE4.2) enabled only processors has been deprecated. Intel oneAPI Math Kernel Library 2025.0 will require Intel(R) Advanced Vector Extensions (Intel(R) AVX) instructions.\n",
      "Intel MKL WARNING: Support of Intel(R) Streaming SIMD Extensions 4.2 (Intel(R) SSE4.2) enabled only processors has been deprecated. Intel oneAPI Math Kernel Library 2025.0 will require Intel(R) Advanced Vector Extensions (Intel(R) AVX) instructions.\n",
      "Intel MKL WARNING: Support of Intel(R) Streaming SIMD Extensions 4.2 (Intel(R) SSE4.2) enabled only processors has been deprecated. Intel oneAPI Math Kernel Library 2025.0 will require Intel(R) Advanced Vector Extensions (Intel(R) AVX) instructions.\n",
      "Intel MKL WARNING: Support of Intel(R) Streaming SIMD Extensions 4.2 (Intel(R) SSE4.2) enabled only processors has been deprecated. Intel oneAPI Math Kernel Library 2025.0 will require Intel(R) Advanced Vector Extensions (Intel(R) AVX) instructions.\n",
      "Intel MKL WARNING: Support of Intel(R) Streaming SIMD Extensions 4.2 (Intel(R) SSE4.2) enabled only processors has been deprecated. Intel oneAPI Math Kernel Library 2025.0 will require Intel(R) Advanced Vector Extensions (Intel(R) AVX) instructions.\n",
      "Intel MKL WARNING: Support of Intel(R) Streaming SIMD Extensions 4.2 (Intel(R) SSE4.2) enabled only processors has been deprecated. Intel oneAPI Math Kernel Library 2025.0 will require Intel(R) Advanced Vector Extensions (Intel(R) AVX) instructions.\n"
     ]
    }
   ],
   "source": [
    "sys = make_system()"
   ]
  },
  {
   "cell_type": "code",
   "execution_count": null,
   "id": "ef0204e4-360b-4c90-96ae-eef52d68c949",
   "metadata": {},
   "outputs": [
    {
     "name": "stdout",
     "output_type": "stream",
     "text": [
      "\n",
      "Starting self-consistent calculation...\n",
      "Target tolerance: 1.0e-06, Max iterations: 100\n"
     ]
    },
    {
     "data": {
      "image/png": "[encoded data removed]",
      "text/plain": [
       "<Figure size 640x480 with 1 Axes>"
      ]
     },
     "metadata": {},
     "output_type": "display_data"
    },
    {
     "data": {
      "application/vnd.jupyter.widget-view+json": {
       "model_id": "542a0770d39f4411adfd882837303968",
       "version_major": 2,
       "version_minor": 0
      },
      "text/plain": [
       "SCF Cycle:   0%|          | 0/100 [00:00<?]"
      ]
     },
     "metadata": {},
     "output_type": "display_data"
    }
   ],
   "source": [
    "Delta = self_consistent_Delta(sys, V=1.0, T=0.01, phase=0, B=0)"
   ]
  },
  {
   "cell_type": "code",
   "execution_count": null,
   "id": "7a21b6b5-8e6f-4900-bd72-027463918ce5",
   "metadata": {},
   "outputs": [],
   "source": [
    "from kwant.solvers.common import GreensFunction\n",
    "\n",
    "def compute_current(syst, phase):\n",
    "    \"\"\"Komori-style current via Matsubara GF\"\"\"\n",
    "    current = 0.0\n",
    "    for n in range(n_matsubara):\n",
    "        omega = (2*n+1)*np.pi*T\n",
    "        gf = GreensFunction(syst, energy=1j*omega, params={'phase': phase})\n",
    "        \n",
    "        # Sum E↑↑(iω_n) over sites\n",
    "        for site in syst.sites:\n",
    "            e_up = 4*syst.sites.index(site)  # Spin-up electron\n",
    "            h_up = e_up + 3                  # Spin-up hole\n",
    "            current += gf.submatrix((e_up,), (h_up,))[0,0].imag\n",
    "            \n",
    "    return -2*e * 1.0 * T * current  # ν0=1, t=1\n",
    "\n",
    "# Usage:\n",
    "Ic = compute_current(sys.finalized(), phase=np.pi/2)"
   ]
  },
  {
   "cell_type": "code",
   "execution_count": 34,
   "id": "ee139c53-4fb6-4c2c-9ee5-9d7992d4e381",
   "metadata": {},
   "outputs": [],
   "source": [
    "def compute_critical_current(B_values):\n",
    "    I_c = []\n",
    "    for B in B_values:\n",
    "        # Self-consistent solution\n",
    "        sys = make_system(B=B)\n",
    "        Delta = self_consistent_Delta(sys)\n",
    "        \n",
    "        # Current-phase relation\n",
    "        phases = np.linspace(0, 2*np.pi, 50)\n",
    "        currents = []\n",
    "        for phi in phases:\n",
    "            sys_phi = make_system(B=B, phase=phi)\n",
    "            H = sys_phi.hamiltonian_submatrix()\n",
    "            eps = eigh(H, eigvals_only=True)\n",
    "            E_gs = np.sum(eps[eps < 0])\n",
    "            currents.append(2*e/hbar * np.gradient(E_gs, phi))\n",
    "        \n",
    "        I_c.append(np.max(np.abs(currents)))\n",
    "    \n",
    "    return np.array(I_c)"
   ]
  },
  {
   "cell_type": "code",
   "execution_count": 35,
   "id": "e5979607-b453-49d8-bf94-fa4dc4cd7ab5",
   "metadata": {
    "scrolled": true
   },
   "outputs": [
    {
     "ename": "TypeError",
     "evalue": "make_system() got an unexpected keyword argument 'B'",
     "output_type": "error",
     "traceback": [
      "\u001b[0;31m---------------------------------------------------------------------------\u001b[0m",
      "\u001b[0;31mTypeError\u001b[0m                                 Traceback (most recent call last)",
      "Cell \u001b[0;32mIn[35], line 3\u001b[0m\n\u001b[1;32m      1\u001b[0m \u001b[38;5;66;03m# Generate Fraunhofer pattern\u001b[39;00m\n\u001b[1;32m      2\u001b[0m B_values \u001b[38;5;241m=\u001b[39m np\u001b[38;5;241m.\u001b[39mlinspace(\u001b[38;5;241m-\u001b[39m\u001b[38;5;241m2\u001b[39m, \u001b[38;5;241m2\u001b[39m, \u001b[38;5;241m50\u001b[39m)  \u001b[38;5;66;03m# In units of Φ/Φ₀\u001b[39;00m\n\u001b[0;32m----> 3\u001b[0m I_c \u001b[38;5;241m=\u001b[39m \u001b[43mcompute_critical_current\u001b[49m\u001b[43m(\u001b[49m\u001b[43mB_values\u001b[49m\u001b[43m)\u001b[49m\n\u001b[1;32m      5\u001b[0m \u001b[38;5;66;03m# Plot\u001b[39;00m\n\u001b[1;32m      6\u001b[0m \u001b[38;5;28;01mimport\u001b[39;00m\u001b[38;5;250m \u001b[39m\u001b[38;5;21;01mmatplotlib\u001b[39;00m\u001b[38;5;21;01m.\u001b[39;00m\u001b[38;5;21;01mpyplot\u001b[39;00m\u001b[38;5;250m \u001b[39m\u001b[38;5;28;01mas\u001b[39;00m\u001b[38;5;250m \u001b[39m\u001b[38;5;21;01mplt\u001b[39;00m\n",
      "Cell \u001b[0;32mIn[34], line 5\u001b[0m, in \u001b[0;36mcompute_critical_current\u001b[0;34m(B_values)\u001b[0m\n\u001b[1;32m      2\u001b[0m I_c \u001b[38;5;241m=\u001b[39m []\n\u001b[1;32m      3\u001b[0m \u001b[38;5;28;01mfor\u001b[39;00m B \u001b[38;5;129;01min\u001b[39;00m B_values:\n\u001b[1;32m      4\u001b[0m     \u001b[38;5;66;03m# Self-consistent solution\u001b[39;00m\n\u001b[0;32m----> 5\u001b[0m     sys \u001b[38;5;241m=\u001b[39m \u001b[43mmake_system\u001b[49m\u001b[43m(\u001b[49m\u001b[43mB\u001b[49m\u001b[38;5;241;43m=\u001b[39;49m\u001b[43mB\u001b[49m\u001b[43m)\u001b[49m\n\u001b[1;32m      6\u001b[0m     Delta \u001b[38;5;241m=\u001b[39m self_consistent_Delta(sys)\n\u001b[1;32m      8\u001b[0m     \u001b[38;5;66;03m# Current-phase relation\u001b[39;00m\n",
      "\u001b[0;31mTypeError\u001b[0m: make_system() got an unexpected keyword argument 'B'"
     ]
    }
   ],
   "source": [
    "# Generate Fraunhofer pattern\n",
    "B_values = np.linspace(-2, 2, 50)  # In units of Φ/Φ₀\n",
    "I_c = compute_critical_current(B_values)"
   ]
  },
  {
   "cell_type": "code",
   "execution_count": null,
   "id": "352607b2-4d04-40b1-99fc-d2027980c82a",
   "metadata": {},
   "outputs": [],
   "source": [
    "\n",
    "# Plot\n",
    "import matplotlib.pyplot as plt\n",
    "plt.plot(B_values, I_c)\n",
    "plt.xlabel(\"Magnetic Field (Φ/Φ₀)\")\n",
    "plt.ylabel(\"Critical Current I_c\")\n",
    "plt.title(\"Asymmetric Fraunhofer Pattern\")\n",
    "plt.show()"
   ]
  },
  {
   "cell_type": "code",
   "execution_count": null,
   "id": "1919df73-591c-4135-9566-b982494ef46e",
   "metadata": {},
   "outputs": [
    {
     "name": "stdout",
     "output_type": "stream",
     "text": [
      "Intel MKL WARNING: Support of Intel(R) Streaming SIMD Extensions 4.2 (Intel(R) SSE4.2) enabled only processors has been deprecated. Intel oneAPI Math Kernel Library 2025.0 will require Intel(R) Advanced Vector Extensions (Intel(R) AVX) instructions.\n",
      "Intel MKL WARNING: Support of Intel(R) Streaming SIMD Extensions 4.2 (Intel(R) SSE4.2) enabled only processors has been deprecated. Intel oneAPI Math Kernel Library 2025.0 will require Intel(R) Advanced Vector Extensions (Intel(R) AVX) instructions.\n",
      "Intel MKL WARNING: Support of Intel(R) Streaming SIMD Extensions 4.2 (Intel(R) SSE4.2) enabled only processors has been deprecated. Intel oneAPI Math Kernel Library 2025.0 will require Intel(R) Advanced Vector Extensions (Intel(R) AVX) instructions.\n",
      "Intel MKL WARNING: Support of Intel(R) Streaming SIMD Extensions 4.2 (Intel(R) SSE4.2) enabled only processors has been deprecated. Intel oneAPI Math Kernel Library 2025.0 will require Intel(R) Advanced Vector Extensions (Intel(R) AVX) instructions.\n",
      "Intel MKL WARNING: Support of Intel(R) Streaming SIMD Extensions 4.2 (Intel(R) SSE4.2) enabled only processors has been deprecated. Intel oneAPI Math Kernel Library 2025.0 will require Intel(R) Advanced Vector Extensions (Intel(R) AVX) instructions.\n",
      "Intel MKL WARNING: Support of Intel(R) Streaming SIMD Extensions 4.2 (Intel(R) SSE4.2) enabled only processors has been deprecated. Intel oneAPI Math Kernel Library 2025.0 will require Intel(R) Advanced Vector Extensions (Intel(R) AVX) instructions.\n",
      "\n",
      "Starting self-consistent calculation...\n",
      "Target tolerance: 1.0e-06, Max iterations: 100\n"
     ]
    },
    {
     "data": {
      "application/vnd.jupyter.widget-view+json": {
       "model_id": "f049d1c2893a43f9a1104b6628ae60ea",
       "version_major": 2,
       "version_minor": 0
      },
      "text/plain": [
       "SCF Cycle:   0%|          | 0/100 [00:00<?]"
      ]
     },
     "metadata": {},
     "output_type": "display_data"
    }
   ],
   "source": [
    "sys = make_system()\n",
    "Delta = self_consistent_Delta(sys, V=1.0, T=0.01, phase=0, B=0)\n",
    "\n",
    "plt.figure(figsize=(10, 6))\n",
    "plt.imshow(np.abs(Delta.T), cmap='viridis', aspect='auto', \n",
    "           extent=[0, Lx*a, 0, Ly*a], origin='lower')\n",
    "plt.colorbar(label=r'$|\\Delta|$ (eV)')\n",
    "plt.xlabel('x (nm)')\n",
    "plt.ylabel('y (nm)')\n",
    "plt.show()"
   ]
  },
  {
   "cell_type": "code",
   "execution_count": null,
   "id": "92313225-8063-4ce0-9cd0-4d3e0acc09ed",
   "metadata": {},
   "outputs": [],
   "source": []
  },
  {
   "cell_type": "code",
   "execution_count": null,
   "id": "99c5bc8a-a15c-467a-bd6a-62b0eb5831f8",
   "metadata": {},
   "outputs": [],
   "source": []
  },
  {
   "cell_type": "code",
   "execution_count": null,
   "id": "83794c7c-9cac-421e-83cd-36d57f0e7a73",
   "metadata": {},
   "outputs": [],
   "source": []
  }
 ],
 "metadata": {
  "kernelspec": {
   "display_name": "kwant-intel",
   "language": "python",
   "name": "kwant-intel"
  },
  "language_info": {
   "codemirror_mode": {
    "name": "ipython",
    "version": 3
   },
   "file_extension": ".py",
   "mimetype": "text/x-python",
   "name": "python",
   "nbconvert_exporter": "python",
   "pygments_lexer": "ipython3",
   "version": "3.10.17"
  }
 },
 "nbformat": 4,
 "nbformat_minor": 5
}
